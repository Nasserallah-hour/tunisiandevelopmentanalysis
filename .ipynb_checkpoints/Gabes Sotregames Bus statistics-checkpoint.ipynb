{
 "cells": [
  {
   "cell_type": "code",
   "execution_count": 17,
   "id": "13cac22a",
   "metadata": {},
   "outputs": [
    {
     "data": {
      "text/html": [
       "<div>\n",
       "<style scoped>\n",
       "    .dataframe tbody tr th:only-of-type {\n",
       "        vertical-align: middle;\n",
       "    }\n",
       "\n",
       "    .dataframe tbody tr th {\n",
       "        vertical-align: top;\n",
       "    }\n",
       "\n",
       "    .dataframe thead th {\n",
       "        text-align: right;\n",
       "    }\n",
       "</style>\n",
       "<table border=\"1\" class=\"dataframe\">\n",
       "  <thead>\n",
       "    <tr style=\"text-align: right;\">\n",
       "      <th></th>\n",
       "      <th>Bus_line</th>\n",
       "      <th>start_location_name</th>\n",
       "      <th>end_location_name</th>\n",
       "      <th>Time_start</th>\n",
       "      <th>Date_record</th>\n",
       "      <th>Accuracy</th>\n",
       "      <th>Confirms</th>\n",
       "      <th>Misses</th>\n",
       "      <th>Last_accurate_time</th>\n",
       "    </tr>\n",
       "  </thead>\n",
       "  <tbody>\n",
       "    <tr>\n",
       "      <th>0</th>\n",
       "      <td>Gabes Khwi Zghabna</td>\n",
       "      <td>Nokie Khwi Mida Gabes</td>\n",
       "      <td>NaN</td>\n",
       "      <td>5:00</td>\n",
       "      <td>30/06/2021</td>\n",
       "      <td>Not Yet Initialized</td>\n",
       "      <td>0</td>\n",
       "      <td>0</td>\n",
       "      <td>NaN</td>\n",
       "    </tr>\n",
       "    <tr>\n",
       "      <th>1</th>\n",
       "      <td>Oudhref Chimical Group + Construction</td>\n",
       "      <td>Harbor Oudhref Market</td>\n",
       "      <td>NaN</td>\n",
       "      <td>5:15</td>\n",
       "      <td>30/06/2021</td>\n",
       "      <td>Not Yet Initialized</td>\n",
       "      <td>0</td>\n",
       "      <td>0</td>\n",
       "      <td>NaN</td>\n",
       "    </tr>\n",
       "    <tr>\n",
       "      <th>2</th>\n",
       "      <td>10+10A de Oudhref</td>\n",
       "      <td>Oudhref Mostarsel</td>\n",
       "      <td>NaN</td>\n",
       "      <td>6:00</td>\n",
       "      <td>30/06/2021</td>\n",
       "      <td>Not Yet Initialized</td>\n",
       "      <td>0</td>\n",
       "      <td>0</td>\n",
       "      <td>NaN</td>\n",
       "    </tr>\n",
       "    <tr>\n",
       "      <th>3</th>\n",
       "      <td>1 10F Hicha Kwiada</td>\n",
       "      <td>Ghraysa Amaret Gabes</td>\n",
       "      <td>NaN</td>\n",
       "      <td>6:00</td>\n",
       "      <td>30/06/2021</td>\n",
       "      <td>Not Yet Initialized</td>\n",
       "      <td>0</td>\n",
       "      <td>0</td>\n",
       "      <td>NaN</td>\n",
       "    </tr>\n",
       "    <tr>\n",
       "      <th>4</th>\n",
       "      <td>10J Manzel Habib</td>\n",
       "      <td>Manzel Habib</td>\n",
       "      <td>NaN</td>\n",
       "      <td>6:00</td>\n",
       "      <td>30/06/2021</td>\n",
       "      <td>Not Yet Initialized</td>\n",
       "      <td>0</td>\n",
       "      <td>0</td>\n",
       "      <td>NaN</td>\n",
       "    </tr>\n",
       "    <tr>\n",
       "      <th>...</th>\n",
       "      <td>...</td>\n",
       "      <td>...</td>\n",
       "      <td>...</td>\n",
       "      <td>...</td>\n",
       "      <td>...</td>\n",
       "      <td>...</td>\n",
       "      <td>...</td>\n",
       "      <td>...</td>\n",
       "      <td>...</td>\n",
       "    </tr>\n",
       "    <tr>\n",
       "      <th>99</th>\n",
       "      <td>Line 4C</td>\n",
       "      <td>Fac de Science/Cité Amel</td>\n",
       "      <td>Hospital</td>\n",
       "      <td>18:40</td>\n",
       "      <td>Unknown</td>\n",
       "      <td>Not Yet Initialized</td>\n",
       "      <td>0</td>\n",
       "      <td>0</td>\n",
       "      <td>NaN</td>\n",
       "    </tr>\n",
       "    <tr>\n",
       "      <th>100</th>\n",
       "      <td>Line D15</td>\n",
       "      <td>Fac de Science</td>\n",
       "      <td>Cité Pharmacies</td>\n",
       "      <td>18:50</td>\n",
       "      <td>Unknown</td>\n",
       "      <td>Not Yet Initialized</td>\n",
       "      <td>0</td>\n",
       "      <td>0</td>\n",
       "      <td>NaN</td>\n",
       "    </tr>\n",
       "    <tr>\n",
       "      <th>101</th>\n",
       "      <td>Line 4</td>\n",
       "      <td>Fac de Science/Cité Amel</td>\n",
       "      <td>Hospital</td>\n",
       "      <td>19:15</td>\n",
       "      <td>Unknown</td>\n",
       "      <td>Not Yet Initialized</td>\n",
       "      <td>0</td>\n",
       "      <td>0</td>\n",
       "      <td>NaN</td>\n",
       "    </tr>\n",
       "    <tr>\n",
       "      <th>102</th>\n",
       "      <td>Line 4C</td>\n",
       "      <td>Hospital</td>\n",
       "      <td>Fac de Science/Cité Amel</td>\n",
       "      <td>19:15</td>\n",
       "      <td>Unknown</td>\n",
       "      <td>Not Yet Initialized</td>\n",
       "      <td>0</td>\n",
       "      <td>0</td>\n",
       "      <td>NaN</td>\n",
       "    </tr>\n",
       "    <tr>\n",
       "      <th>103</th>\n",
       "      <td>Oudhref Chimical Group + Construction</td>\n",
       "      <td>Harbor Oudhref Market</td>\n",
       "      <td>NaN</td>\n",
       "      <td>21:15</td>\n",
       "      <td>30/06/2021</td>\n",
       "      <td>Not Yet Initialized</td>\n",
       "      <td>0</td>\n",
       "      <td>0</td>\n",
       "      <td>NaN</td>\n",
       "    </tr>\n",
       "  </tbody>\n",
       "</table>\n",
       "<p>104 rows × 9 columns</p>\n",
       "</div>"
      ],
      "text/plain": [
       "                                  Bus_line       start_location_name  \\\n",
       "0                       Gabes Khwi Zghabna     Nokie Khwi Mida Gabes   \n",
       "1    Oudhref Chimical Group + Construction     Harbor Oudhref Market   \n",
       "2                        10+10A de Oudhref         Oudhref Mostarsel   \n",
       "3                       1 10F Hicha Kwiada      Ghraysa Amaret Gabes   \n",
       "4                         10J Manzel Habib              Manzel Habib   \n",
       "..                                     ...                       ...   \n",
       "99                                 Line 4C  Fac de Science/Cité Amel   \n",
       "100                               Line D15            Fac de Science   \n",
       "101                                 Line 4  Fac de Science/Cité Amel   \n",
       "102                                Line 4C                  Hospital   \n",
       "103  Oudhref Chimical Group + Construction     Harbor Oudhref Market   \n",
       "\n",
       "            end_location_name Time_start Date_record             Accuracy  \\\n",
       "0                         NaN       5:00  30/06/2021  Not Yet Initialized   \n",
       "1                         NaN       5:15  30/06/2021  Not Yet Initialized   \n",
       "2                         NaN       6:00  30/06/2021  Not Yet Initialized   \n",
       "3                         NaN       6:00  30/06/2021  Not Yet Initialized   \n",
       "4                         NaN       6:00  30/06/2021  Not Yet Initialized   \n",
       "..                        ...        ...         ...                  ...   \n",
       "99                   Hospital      18:40     Unknown  Not Yet Initialized   \n",
       "100           Cité Pharmacies      18:50     Unknown  Not Yet Initialized   \n",
       "101                  Hospital      19:15     Unknown  Not Yet Initialized   \n",
       "102  Fac de Science/Cité Amel      19:15     Unknown  Not Yet Initialized   \n",
       "103                       NaN      21:15  30/06/2021  Not Yet Initialized   \n",
       "\n",
       "     Confirms  Misses  Last_accurate_time  \n",
       "0           0       0                 NaN  \n",
       "1           0       0                 NaN  \n",
       "2           0       0                 NaN  \n",
       "3           0       0                 NaN  \n",
       "4           0       0                 NaN  \n",
       "..        ...     ...                 ...  \n",
       "99          0       0                 NaN  \n",
       "100         0       0                 NaN  \n",
       "101         0       0                 NaN  \n",
       "102         0       0                 NaN  \n",
       "103         0       0                 NaN  \n",
       "\n",
       "[104 rows x 9 columns]"
      ]
     },
     "execution_count": 17,
     "metadata": {},
     "output_type": "execute_result"
    }
   ],
   "source": [
    "import pandas as pd\n",
    "UrbanBusData=pd.read_csv(\"Sotregames Urban Bus times again.csv\")\n",
    "UrbanBusData"
   ]
  },
  {
   "cell_type": "code",
   "execution_count": 19,
   "id": "f1f16571",
   "metadata": {},
   "outputs": [
    {
     "data": {
      "application/vnd.plotly.v1+json": {
       "config": {
        "plotlyServerURL": "https://plot.ly"
       },
       "data": [
        {
         "hovertemplate": "Bus_line=%{text}<br>Time_start=%{x}<br>start_location_name=%{y}<extra></extra>",
         "legendgroup": "Gabes Khwi Zghabna",
         "marker": {
          "color": "#636efa",
          "symbol": "circle"
         },
         "mode": "markers+text",
         "name": "Gabes Khwi Zghabna",
         "orientation": "v",
         "showlegend": true,
         "text": [
          "Gabes Khwi Zghabna",
          "Gabes Khwi Zghabna"
         ],
         "type": "scatter",
         "x": [
          "5:00",
          "15:30"
         ],
         "xaxis": "x",
         "y": [
          "Nokie Khwi Mida Gabes",
          "Gabes Awled Thaw Vers Nokie"
         ],
         "yaxis": "y"
        },
        {
         "hovertemplate": "Bus_line=%{text}<br>Time_start=%{x}<br>start_location_name=%{y}<extra></extra>",
         "legendgroup": "Oudhref Chimical Group + Construction",
         "marker": {
          "color": "#EF553B",
          "symbol": "circle"
         },
         "mode": "markers+text",
         "name": "Oudhref Chimical Group + Construction",
         "orientation": "v",
         "showlegend": true,
         "text": [
          "Oudhref Chimical Group + Construction",
          "Oudhref Chimical Group + Construction",
          "Oudhref Chimical Group + Construction"
         ],
         "type": "scatter",
         "x": [
          "5:15",
          "13:15",
          "21:15"
         ],
         "xaxis": "x",
         "y": [
          "Harbor Oudhref Market",
          "Harbor Oudhref Market",
          "Harbor Oudhref Market"
         ],
         "yaxis": "y"
        },
        {
         "hovertemplate": "Bus_line=%{text}<br>Time_start=%{x}<br>start_location_name=%{y}<extra></extra>",
         "legendgroup": "10+10A de Oudhref",
         "marker": {
          "color": "#00cc96",
          "symbol": "circle"
         },
         "mode": "markers+text",
         "name": "10+10A de Oudhref",
         "orientation": "v",
         "showlegend": true,
         "text": [
          "10+10A de Oudhref",
          "10+10A de Oudhref",
          "10+10A de Oudhref",
          "10+10A de Oudhref",
          "10+10A de Oudhref",
          "10+10A de Oudhref",
          "10+10A de Oudhref",
          "10+10A de Oudhref",
          "10+10A de Oudhref",
          "10+10A de Oudhref",
          "10+10A de Oudhref",
          "10+10A de Oudhref"
         ],
         "type": "scatter",
         "x": [
          "6:00",
          "6:45",
          "7:30",
          "8:00",
          "8:45",
          "10:00",
          "11:05",
          "12:20",
          "13:15",
          "14:30",
          "15:45",
          "17:00"
         ],
         "xaxis": "x",
         "y": [
          "Oudhref Mostarsel",
          "Oudhref Mostarsel",
          "Oudhref Mostarsel",
          "Oudhref Mostarsel",
          "Oudhref Mostarsel",
          "Oudhref Mostarsel",
          "Oudhref Mostarsel",
          "Oudhref Mostarsel",
          "Oudhref Mostarsel",
          "Oudhref Mostarsel",
          "Oudhref Mostarsel",
          "Oudhref Mostarsel"
         ],
         "yaxis": "y"
        },
        {
         "hovertemplate": "Bus_line=%{text}<br>Time_start=%{x}<br>start_location_name=%{y}<extra></extra>",
         "legendgroup": "1 10F Hicha Kwiada",
         "marker": {
          "color": "#ab63fa",
          "symbol": "circle"
         },
         "mode": "markers+text",
         "name": "1 10F Hicha Kwiada",
         "orientation": "v",
         "showlegend": true,
         "text": [
          "1 10F Hicha Kwiada",
          "1 10F Hicha Kwiada",
          "1 10F Hicha Kwiada",
          "1 10F Hicha Kwiada",
          "1 10F Hicha Kwiada",
          "1 10F Hicha Kwiada"
         ],
         "type": "scatter",
         "x": [
          "6:00",
          "6:45",
          "7:30",
          "11:30",
          "14:30",
          "18:10"
         ],
         "xaxis": "x",
         "y": [
          "Ghraysa Amaret Gabes",
          "Amarat",
          "Awled Thaw Vers Hicha Gabes",
          "Gabes Transport Station",
          "Gabes Transport Station",
          "Gabes Warhouse"
         ],
         "yaxis": "y"
        },
        {
         "hovertemplate": "Bus_line=%{text}<br>Time_start=%{x}<br>start_location_name=%{y}<extra></extra>",
         "legendgroup": "10J Manzel Habib",
         "marker": {
          "color": "#FFA15A",
          "symbol": "circle"
         },
         "mode": "markers+text",
         "name": "10J Manzel Habib",
         "orientation": "v",
         "showlegend": true,
         "text": [
          "10J Manzel Habib",
          "10J Manzel Habib",
          "10J Manzel Habib",
          "10J Manzel Habib",
          "10J Manzel Habib",
          "10J Manzel Habib",
          "10J Manzel Habib",
          "10J Manzel Habib"
         ],
         "type": "scatter",
         "x": [
          "6:00",
          "6:45",
          "8:30",
          "12:30",
          "14:00",
          "15:30",
          "17:05",
          "18:30"
         ],
         "xaxis": "x",
         "y": [
          "Manzel Habib",
          "Gabes Transport Station",
          "Manzel Habib",
          "Gabes Transport Station",
          "Gabes Transport Station",
          "Gabes Transport Station",
          "Manzel Habib",
          "Gabes Transport Station"
         ],
         "yaxis": "y"
        },
        {
         "hovertemplate": "Bus_line=%{text}<br>Time_start=%{x}<br>start_location_name=%{y}<extra></extra>",
         "legendgroup": "10E 1 Mida",
         "marker": {
          "color": "#19d3f3",
          "symbol": "circle"
         },
         "mode": "markers+text",
         "name": "10E 1 Mida",
         "orientation": "v",
         "showlegend": true,
         "text": [
          "10E 1 Mida",
          "10E 1 Mida",
          "10E 1 Mida",
          "10E 1 Mida",
          "10E 1 Mida",
          "10E 1 Mida",
          "10E 1 Mida"
         ],
         "type": "scatter",
         "x": [
          "6:10",
          "8:10",
          "11:30",
          "13:10",
          "14:10",
          "15:30",
          "17:30"
         ],
         "xaxis": "x",
         "y": [
          "Awled Thaw Vers Mida \nGabes",
          "Ghraysa Mida Gabes",
          "Gabes Vers Awled Thaw",
          "Awled Thaw Vers Mida \nGabes",
          "Gabes Vers Awled Thaw",
          "Gabes Vers Awled Thaw",
          "Gabes Mida Vers Awled Thaw"
         ],
         "yaxis": "y"
        },
        {
         "hovertemplate": "Bus_line=%{text}<br>Time_start=%{x}<br>start_location_name=%{y}<extra></extra>",
         "legendgroup": "10+10A de Gabes",
         "marker": {
          "color": "#FF6692",
          "symbol": "circle"
         },
         "mode": "markers+text",
         "name": "10+10A de Gabes",
         "orientation": "v",
         "showlegend": true,
         "text": [
          "10+10A de Gabes",
          "10+10A de Gabes",
          "10+10A de Gabes",
          "10+10A de Gabes",
          "10+10A de Gabes",
          "10+10A de Gabes",
          "10+10A de Gabes",
          "10+10A de Gabes",
          "10+10A de Gabes",
          "10+10A de Gabes",
          "10+10A de Gabes",
          "10+10A de Gabes"
         ],
         "type": "scatter",
         "x": [
          "6:50",
          "7:20",
          "7:25",
          "8:45",
          "10:00",
          "11:00",
          "12:10",
          "13:15",
          "14:00",
          "15:30",
          "17:00",
          "18:10"
         ],
         "xaxis": "x",
         "y": [
          "Hospital",
          "Hospital",
          "Gabes Warhouse",
          "Sidi Marzouk",
          "Hospital",
          "Hospital",
          "Hospital",
          "Hospital",
          "Hospital",
          "Hospital",
          "Hospital",
          "Gabes Warhouse"
         ],
         "yaxis": "y"
        },
        {
         "hovertemplate": "Bus_line=%{text}<br>Time_start=%{x}<br>start_location_name=%{y}<extra></extra>",
         "legendgroup": "Line 4",
         "marker": {
          "color": "#B6E880",
          "symbol": "circle"
         },
         "mode": "markers+text",
         "name": "Line 4",
         "orientation": "v",
         "showlegend": true,
         "text": [
          "Line 4",
          "Line 4",
          "Line 4",
          "Line 4",
          "Line 4",
          "Line 4",
          "Line 4",
          "Line 4",
          "Line 4",
          "Line 4",
          "Line 4",
          "Line 4",
          "Line 4",
          "Line 4",
          "Line 4",
          "Line 4",
          "Line 4",
          "Line 4",
          "Line 4"
         ],
         "type": "scatter",
         "x": [
          "7:15",
          "7:55",
          "8:35",
          "9:15",
          "9:55",
          "10:35",
          "11:15",
          "11:50",
          "12:20",
          "13:15",
          "13:55",
          "14:35",
          "15:15",
          "15:15",
          "15:55",
          "16:35",
          "17:55",
          "18:35",
          "19:15"
         ],
         "xaxis": "x",
         "y": [
          "Fac de Science/Cité Amel",
          "Fac de Science/Cité Amel",
          "Hospital",
          "Fac de Science/Cité Amel",
          "Hospital",
          "Fac de Science/Cité Amel",
          "Hospital",
          "Fac de Science/Cité Amel",
          "Hospital",
          "Fac de Science/Cité Amel",
          "Fac de Science/Cité Amel",
          "Hospital",
          "Fac de Science/Cité Amel",
          "Hospital",
          "Hospital",
          "Fac de Science/Cité Amel",
          "Fac de Science/Cité Amel",
          "Hospital",
          "Fac de Science/Cité Amel"
         ],
         "yaxis": "y"
        },
        {
         "hovertemplate": "Bus_line=%{text}<br>Time_start=%{x}<br>start_location_name=%{y}<extra></extra>",
         "legendgroup": "Line 4C",
         "marker": {
          "color": "#FF97FF",
          "symbol": "circle"
         },
         "mode": "markers+text",
         "name": "Line 4C",
         "orientation": "v",
         "showlegend": true,
         "text": [
          "Line 4C",
          "Line 4C",
          "Line 4C",
          "Line 4C",
          "Line 4C",
          "Line 4C",
          "Line 4C",
          "Line 4C",
          "Line 4C",
          "Line 4C",
          "Line 4C",
          "Line 4C",
          "Line 4C",
          "Line 4C",
          "Line 4C",
          "Line 4C",
          "Line 4C",
          "Line 4C"
         ],
         "type": "scatter",
         "x": [
          "7:15",
          "7:55",
          "8:35",
          "9:15",
          "9:55",
          "10:35",
          "11:15",
          "12:00",
          "13:15",
          "13:55",
          "14:35",
          "15:15",
          "15:55",
          "16:35",
          "17:15",
          "18:00",
          "18:40",
          "19:15"
         ],
         "xaxis": "x",
         "y": [
          "Fac de Science/Cité Amel",
          "Hospital",
          "Fac de Science/Cité Amel",
          "Hospital",
          "Fac de Science/Cité Amel",
          "Hospital",
          "Fac de Science/Cité Amel",
          "Cité Manara",
          "Fac de Science/Cité Amel",
          "Hospital",
          "Fac de Science/Cité Amel",
          "Hospital",
          "Fac de Science/Cité Amel",
          "Hospital",
          "Fac de Science/Cité Amel",
          "Cité Manara",
          "Fac de Science/Cité Amel",
          "Hospital"
         ],
         "yaxis": "y"
        },
        {
         "hovertemplate": "Bus_line=%{text}<br>Time_start=%{x}<br>start_location_name=%{y}<extra></extra>",
         "legendgroup": "Line D15",
         "marker": {
          "color": "#FECB52",
          "symbol": "circle"
         },
         "mode": "markers+text",
         "name": "Line D15",
         "orientation": "v",
         "showlegend": true,
         "text": [
          "Line D15",
          "Line D15",
          "Line D15",
          "Line D15",
          "Line D15",
          "Line D15",
          "Line D15",
          "Line D15",
          "Line D15",
          "Line D15",
          "Line D15",
          "Line D15",
          "Line D15",
          "Line D15",
          "Line D15",
          "Line D15",
          "Line D15"
         ],
         "type": "scatter",
         "x": [
          "7:30",
          "8:10",
          "8:50",
          "9:30",
          "10:10",
          "10:50",
          "11:30",
          "12:10",
          "12:50",
          "13:30",
          "14:10",
          "14:50",
          "15:30",
          "16:50",
          "17:30",
          "18:10",
          "18:50"
         ],
         "xaxis": "x",
         "y": [
          "Cité Pharmacies",
          "Fac de Science",
          "Cité Pharmacies",
          "Fac de Science",
          "Cité Pharmacies",
          "Fac de Science",
          "Cité Pharmacies",
          "Fac de Science",
          "Cité Pharmacies",
          "Cité Pharmacies",
          "Fac de Science",
          "Cité Pharmacies",
          "Fac de Science",
          "Cité Pharmacies",
          "Fac de Science",
          "Cité Pharmacies",
          "Fac de Science"
         ],
         "yaxis": "y"
        }
       ],
       "layout": {
        "legend": {
         "title": {
          "text": "Bus_line"
         },
         "tracegroupgap": 0
        },
        "margin": {
         "t": 60
        },
        "template": {
         "data": {
          "bar": [
           {
            "error_x": {
             "color": "#2a3f5f"
            },
            "error_y": {
             "color": "#2a3f5f"
            },
            "marker": {
             "line": {
              "color": "#E5ECF6",
              "width": 0.5
             },
             "pattern": {
              "fillmode": "overlay",
              "size": 10,
              "solidity": 0.2
             }
            },
            "type": "bar"
           }
          ],
          "barpolar": [
           {
            "marker": {
             "line": {
              "color": "#E5ECF6",
              "width": 0.5
             },
             "pattern": {
              "fillmode": "overlay",
              "size": 10,
              "solidity": 0.2
             }
            },
            "type": "barpolar"
           }
          ],
          "carpet": [
           {
            "aaxis": {
             "endlinecolor": "#2a3f5f",
             "gridcolor": "white",
             "linecolor": "white",
             "minorgridcolor": "white",
             "startlinecolor": "#2a3f5f"
            },
            "baxis": {
             "endlinecolor": "#2a3f5f",
             "gridcolor": "white",
             "linecolor": "white",
             "minorgridcolor": "white",
             "startlinecolor": "#2a3f5f"
            },
            "type": "carpet"
           }
          ],
          "choropleth": [
           {
            "colorbar": {
             "outlinewidth": 0,
             "ticks": ""
            },
            "type": "choropleth"
           }
          ],
          "contour": [
           {
            "colorbar": {
             "outlinewidth": 0,
             "ticks": ""
            },
            "colorscale": [
             [
              0,
              "#0d0887"
             ],
             [
              0.1111111111111111,
              "#46039f"
             ],
             [
              0.2222222222222222,
              "#7201a8"
             ],
             [
              0.3333333333333333,
              "#9c179e"
             ],
             [
              0.4444444444444444,
              "#bd3786"
             ],
             [
              0.5555555555555556,
              "#d8576b"
             ],
             [
              0.6666666666666666,
              "#ed7953"
             ],
             [
              0.7777777777777778,
              "#fb9f3a"
             ],
             [
              0.8888888888888888,
              "#fdca26"
             ],
             [
              1,
              "#f0f921"
             ]
            ],
            "type": "contour"
           }
          ],
          "contourcarpet": [
           {
            "colorbar": {
             "outlinewidth": 0,
             "ticks": ""
            },
            "type": "contourcarpet"
           }
          ],
          "heatmap": [
           {
            "colorbar": {
             "outlinewidth": 0,
             "ticks": ""
            },
            "colorscale": [
             [
              0,
              "#0d0887"
             ],
             [
              0.1111111111111111,
              "#46039f"
             ],
             [
              0.2222222222222222,
              "#7201a8"
             ],
             [
              0.3333333333333333,
              "#9c179e"
             ],
             [
              0.4444444444444444,
              "#bd3786"
             ],
             [
              0.5555555555555556,
              "#d8576b"
             ],
             [
              0.6666666666666666,
              "#ed7953"
             ],
             [
              0.7777777777777778,
              "#fb9f3a"
             ],
             [
              0.8888888888888888,
              "#fdca26"
             ],
             [
              1,
              "#f0f921"
             ]
            ],
            "type": "heatmap"
           }
          ],
          "heatmapgl": [
           {
            "colorbar": {
             "outlinewidth": 0,
             "ticks": ""
            },
            "colorscale": [
             [
              0,
              "#0d0887"
             ],
             [
              0.1111111111111111,
              "#46039f"
             ],
             [
              0.2222222222222222,
              "#7201a8"
             ],
             [
              0.3333333333333333,
              "#9c179e"
             ],
             [
              0.4444444444444444,
              "#bd3786"
             ],
             [
              0.5555555555555556,
              "#d8576b"
             ],
             [
              0.6666666666666666,
              "#ed7953"
             ],
             [
              0.7777777777777778,
              "#fb9f3a"
             ],
             [
              0.8888888888888888,
              "#fdca26"
             ],
             [
              1,
              "#f0f921"
             ]
            ],
            "type": "heatmapgl"
           }
          ],
          "histogram": [
           {
            "marker": {
             "pattern": {
              "fillmode": "overlay",
              "size": 10,
              "solidity": 0.2
             }
            },
            "type": "histogram"
           }
          ],
          "histogram2d": [
           {
            "colorbar": {
             "outlinewidth": 0,
             "ticks": ""
            },
            "colorscale": [
             [
              0,
              "#0d0887"
             ],
             [
              0.1111111111111111,
              "#46039f"
             ],
             [
              0.2222222222222222,
              "#7201a8"
             ],
             [
              0.3333333333333333,
              "#9c179e"
             ],
             [
              0.4444444444444444,
              "#bd3786"
             ],
             [
              0.5555555555555556,
              "#d8576b"
             ],
             [
              0.6666666666666666,
              "#ed7953"
             ],
             [
              0.7777777777777778,
              "#fb9f3a"
             ],
             [
              0.8888888888888888,
              "#fdca26"
             ],
             [
              1,
              "#f0f921"
             ]
            ],
            "type": "histogram2d"
           }
          ],
          "histogram2dcontour": [
           {
            "colorbar": {
             "outlinewidth": 0,
             "ticks": ""
            },
            "colorscale": [
             [
              0,
              "#0d0887"
             ],
             [
              0.1111111111111111,
              "#46039f"
             ],
             [
              0.2222222222222222,
              "#7201a8"
             ],
             [
              0.3333333333333333,
              "#9c179e"
             ],
             [
              0.4444444444444444,
              "#bd3786"
             ],
             [
              0.5555555555555556,
              "#d8576b"
             ],
             [
              0.6666666666666666,
              "#ed7953"
             ],
             [
              0.7777777777777778,
              "#fb9f3a"
             ],
             [
              0.8888888888888888,
              "#fdca26"
             ],
             [
              1,
              "#f0f921"
             ]
            ],
            "type": "histogram2dcontour"
           }
          ],
          "mesh3d": [
           {
            "colorbar": {
             "outlinewidth": 0,
             "ticks": ""
            },
            "type": "mesh3d"
           }
          ],
          "parcoords": [
           {
            "line": {
             "colorbar": {
              "outlinewidth": 0,
              "ticks": ""
             }
            },
            "type": "parcoords"
           }
          ],
          "pie": [
           {
            "automargin": true,
            "type": "pie"
           }
          ],
          "scatter": [
           {
            "marker": {
             "colorbar": {
              "outlinewidth": 0,
              "ticks": ""
             }
            },
            "type": "scatter"
           }
          ],
          "scatter3d": [
           {
            "line": {
             "colorbar": {
              "outlinewidth": 0,
              "ticks": ""
             }
            },
            "marker": {
             "colorbar": {
              "outlinewidth": 0,
              "ticks": ""
             }
            },
            "type": "scatter3d"
           }
          ],
          "scattercarpet": [
           {
            "marker": {
             "colorbar": {
              "outlinewidth": 0,
              "ticks": ""
             }
            },
            "type": "scattercarpet"
           }
          ],
          "scattergeo": [
           {
            "marker": {
             "colorbar": {
              "outlinewidth": 0,
              "ticks": ""
             }
            },
            "type": "scattergeo"
           }
          ],
          "scattergl": [
           {
            "marker": {
             "colorbar": {
              "outlinewidth": 0,
              "ticks": ""
             }
            },
            "type": "scattergl"
           }
          ],
          "scattermapbox": [
           {
            "marker": {
             "colorbar": {
              "outlinewidth": 0,
              "ticks": ""
             }
            },
            "type": "scattermapbox"
           }
          ],
          "scatterpolar": [
           {
            "marker": {
             "colorbar": {
              "outlinewidth": 0,
              "ticks": ""
             }
            },
            "type": "scatterpolar"
           }
          ],
          "scatterpolargl": [
           {
            "marker": {
             "colorbar": {
              "outlinewidth": 0,
              "ticks": ""
             }
            },
            "type": "scatterpolargl"
           }
          ],
          "scatterternary": [
           {
            "marker": {
             "colorbar": {
              "outlinewidth": 0,
              "ticks": ""
             }
            },
            "type": "scatterternary"
           }
          ],
          "surface": [
           {
            "colorbar": {
             "outlinewidth": 0,
             "ticks": ""
            },
            "colorscale": [
             [
              0,
              "#0d0887"
             ],
             [
              0.1111111111111111,
              "#46039f"
             ],
             [
              0.2222222222222222,
              "#7201a8"
             ],
             [
              0.3333333333333333,
              "#9c179e"
             ],
             [
              0.4444444444444444,
              "#bd3786"
             ],
             [
              0.5555555555555556,
              "#d8576b"
             ],
             [
              0.6666666666666666,
              "#ed7953"
             ],
             [
              0.7777777777777778,
              "#fb9f3a"
             ],
             [
              0.8888888888888888,
              "#fdca26"
             ],
             [
              1,
              "#f0f921"
             ]
            ],
            "type": "surface"
           }
          ],
          "table": [
           {
            "cells": {
             "fill": {
              "color": "#EBF0F8"
             },
             "line": {
              "color": "white"
             }
            },
            "header": {
             "fill": {
              "color": "#C8D4E3"
             },
             "line": {
              "color": "white"
             }
            },
            "type": "table"
           }
          ]
         },
         "layout": {
          "annotationdefaults": {
           "arrowcolor": "#2a3f5f",
           "arrowhead": 0,
           "arrowwidth": 1
          },
          "autotypenumbers": "strict",
          "coloraxis": {
           "colorbar": {
            "outlinewidth": 0,
            "ticks": ""
           }
          },
          "colorscale": {
           "diverging": [
            [
             0,
             "#8e0152"
            ],
            [
             0.1,
             "#c51b7d"
            ],
            [
             0.2,
             "#de77ae"
            ],
            [
             0.3,
             "#f1b6da"
            ],
            [
             0.4,
             "#fde0ef"
            ],
            [
             0.5,
             "#f7f7f7"
            ],
            [
             0.6,
             "#e6f5d0"
            ],
            [
             0.7,
             "#b8e186"
            ],
            [
             0.8,
             "#7fbc41"
            ],
            [
             0.9,
             "#4d9221"
            ],
            [
             1,
             "#276419"
            ]
           ],
           "sequential": [
            [
             0,
             "#0d0887"
            ],
            [
             0.1111111111111111,
             "#46039f"
            ],
            [
             0.2222222222222222,
             "#7201a8"
            ],
            [
             0.3333333333333333,
             "#9c179e"
            ],
            [
             0.4444444444444444,
             "#bd3786"
            ],
            [
             0.5555555555555556,
             "#d8576b"
            ],
            [
             0.6666666666666666,
             "#ed7953"
            ],
            [
             0.7777777777777778,
             "#fb9f3a"
            ],
            [
             0.8888888888888888,
             "#fdca26"
            ],
            [
             1,
             "#f0f921"
            ]
           ],
           "sequentialminus": [
            [
             0,
             "#0d0887"
            ],
            [
             0.1111111111111111,
             "#46039f"
            ],
            [
             0.2222222222222222,
             "#7201a8"
            ],
            [
             0.3333333333333333,
             "#9c179e"
            ],
            [
             0.4444444444444444,
             "#bd3786"
            ],
            [
             0.5555555555555556,
             "#d8576b"
            ],
            [
             0.6666666666666666,
             "#ed7953"
            ],
            [
             0.7777777777777778,
             "#fb9f3a"
            ],
            [
             0.8888888888888888,
             "#fdca26"
            ],
            [
             1,
             "#f0f921"
            ]
           ]
          },
          "colorway": [
           "#636efa",
           "#EF553B",
           "#00cc96",
           "#ab63fa",
           "#FFA15A",
           "#19d3f3",
           "#FF6692",
           "#B6E880",
           "#FF97FF",
           "#FECB52"
          ],
          "font": {
           "color": "#2a3f5f"
          },
          "geo": {
           "bgcolor": "white",
           "lakecolor": "white",
           "landcolor": "#E5ECF6",
           "showlakes": true,
           "showland": true,
           "subunitcolor": "white"
          },
          "hoverlabel": {
           "align": "left"
          },
          "hovermode": "closest",
          "mapbox": {
           "style": "light"
          },
          "paper_bgcolor": "white",
          "plot_bgcolor": "#E5ECF6",
          "polar": {
           "angularaxis": {
            "gridcolor": "white",
            "linecolor": "white",
            "ticks": ""
           },
           "bgcolor": "#E5ECF6",
           "radialaxis": {
            "gridcolor": "white",
            "linecolor": "white",
            "ticks": ""
           }
          },
          "scene": {
           "xaxis": {
            "backgroundcolor": "#E5ECF6",
            "gridcolor": "white",
            "gridwidth": 2,
            "linecolor": "white",
            "showbackground": true,
            "ticks": "",
            "zerolinecolor": "white"
           },
           "yaxis": {
            "backgroundcolor": "#E5ECF6",
            "gridcolor": "white",
            "gridwidth": 2,
            "linecolor": "white",
            "showbackground": true,
            "ticks": "",
            "zerolinecolor": "white"
           },
           "zaxis": {
            "backgroundcolor": "#E5ECF6",
            "gridcolor": "white",
            "gridwidth": 2,
            "linecolor": "white",
            "showbackground": true,
            "ticks": "",
            "zerolinecolor": "white"
           }
          },
          "shapedefaults": {
           "line": {
            "color": "#2a3f5f"
           }
          },
          "ternary": {
           "aaxis": {
            "gridcolor": "white",
            "linecolor": "white",
            "ticks": ""
           },
           "baxis": {
            "gridcolor": "white",
            "linecolor": "white",
            "ticks": ""
           },
           "bgcolor": "#E5ECF6",
           "caxis": {
            "gridcolor": "white",
            "linecolor": "white",
            "ticks": ""
           }
          },
          "title": {
           "x": 0.05
          },
          "xaxis": {
           "automargin": true,
           "gridcolor": "white",
           "linecolor": "white",
           "ticks": "",
           "title": {
            "standoff": 15
           },
           "zerolinecolor": "white",
           "zerolinewidth": 2
          },
          "yaxis": {
           "automargin": true,
           "gridcolor": "white",
           "linecolor": "white",
           "ticks": "",
           "title": {
            "standoff": 15
           },
           "zerolinecolor": "white",
           "zerolinewidth": 2
          }
         }
        },
        "xaxis": {
         "anchor": "y",
         "domain": [
          0,
          1
         ],
         "title": {
          "text": "Time_start"
         }
        },
        "yaxis": {
         "anchor": "x",
         "domain": [
          0,
          1
         ],
         "title": {
          "text": "start_location_name"
         }
        }
       }
      },
      "text/html": [
       "<div>                            <div id=\"2b7a77ac-a077-4dd1-94e7-ecabfd48d3ea\" class=\"plotly-graph-div\" style=\"height:525px; width:100%;\"></div>            <script type=\"text/javascript\">                require([\"plotly\"], function(Plotly) {                    window.PLOTLYENV=window.PLOTLYENV || {};                                    if (document.getElementById(\"2b7a77ac-a077-4dd1-94e7-ecabfd48d3ea\")) {                    Plotly.newPlot(                        \"2b7a77ac-a077-4dd1-94e7-ecabfd48d3ea\",                        [{\"hovertemplate\":\"Bus_line=%{text}<br>Time_start=%{x}<br>start_location_name=%{y}<extra></extra>\",\"legendgroup\":\"Gabes Khwi Zghabna\",\"marker\":{\"color\":\"#636efa\",\"symbol\":\"circle\"},\"mode\":\"markers+text\",\"name\":\"Gabes Khwi Zghabna\",\"orientation\":\"v\",\"showlegend\":true,\"text\":[\"Gabes Khwi Zghabna\",\"Gabes Khwi Zghabna\"],\"x\":[\"5:00\",\"15:30\"],\"xaxis\":\"x\",\"y\":[\"Nokie Khwi Mida Gabes\",\"Gabes Awled Thaw Vers Nokie\"],\"yaxis\":\"y\",\"type\":\"scatter\"},{\"hovertemplate\":\"Bus_line=%{text}<br>Time_start=%{x}<br>start_location_name=%{y}<extra></extra>\",\"legendgroup\":\"Oudhref Chimical Group + Construction\",\"marker\":{\"color\":\"#EF553B\",\"symbol\":\"circle\"},\"mode\":\"markers+text\",\"name\":\"Oudhref Chimical Group + Construction\",\"orientation\":\"v\",\"showlegend\":true,\"text\":[\"Oudhref Chimical Group + Construction\",\"Oudhref Chimical Group + Construction\",\"Oudhref Chimical Group + Construction\"],\"x\":[\"5:15\",\"13:15\",\"21:15\"],\"xaxis\":\"x\",\"y\":[\"Harbor Oudhref Market\",\"Harbor Oudhref Market\",\"Harbor Oudhref Market\"],\"yaxis\":\"y\",\"type\":\"scatter\"},{\"hovertemplate\":\"Bus_line=%{text}<br>Time_start=%{x}<br>start_location_name=%{y}<extra></extra>\",\"legendgroup\":\"10+10A de Oudhref\",\"marker\":{\"color\":\"#00cc96\",\"symbol\":\"circle\"},\"mode\":\"markers+text\",\"name\":\"10+10A de Oudhref\",\"orientation\":\"v\",\"showlegend\":true,\"text\":[\"10+10A de Oudhref\",\"10+10A de Oudhref\",\"10+10A de Oudhref\",\"10+10A de Oudhref\",\"10+10A de Oudhref\",\"10+10A de Oudhref\",\"10+10A de Oudhref\",\"10+10A de Oudhref\",\"10+10A de Oudhref\",\"10+10A de Oudhref\",\"10+10A de Oudhref\",\"10+10A de Oudhref\"],\"x\":[\"6:00\",\"6:45\",\"7:30\",\"8:00\",\"8:45\",\"10:00\",\"11:05\",\"12:20\",\"13:15\",\"14:30\",\"15:45\",\"17:00\"],\"xaxis\":\"x\",\"y\":[\"Oudhref Mostarsel\",\"Oudhref Mostarsel\",\"Oudhref Mostarsel\",\"Oudhref Mostarsel\",\"Oudhref Mostarsel\",\"Oudhref Mostarsel\",\"Oudhref Mostarsel\",\"Oudhref Mostarsel\",\"Oudhref Mostarsel\",\"Oudhref Mostarsel\",\"Oudhref Mostarsel\",\"Oudhref Mostarsel\"],\"yaxis\":\"y\",\"type\":\"scatter\"},{\"hovertemplate\":\"Bus_line=%{text}<br>Time_start=%{x}<br>start_location_name=%{y}<extra></extra>\",\"legendgroup\":\"1 10F Hicha Kwiada\",\"marker\":{\"color\":\"#ab63fa\",\"symbol\":\"circle\"},\"mode\":\"markers+text\",\"name\":\"1 10F Hicha Kwiada\",\"orientation\":\"v\",\"showlegend\":true,\"text\":[\"1 10F Hicha Kwiada\",\"1 10F Hicha Kwiada\",\"1 10F Hicha Kwiada\",\"1 10F Hicha Kwiada\",\"1 10F Hicha Kwiada\",\"1 10F Hicha Kwiada\"],\"x\":[\"6:00\",\"6:45\",\"7:30\",\"11:30\",\"14:30\",\"18:10\"],\"xaxis\":\"x\",\"y\":[\"Ghraysa Amaret Gabes\",\"Amarat\",\"Awled Thaw Vers Hicha Gabes\",\"Gabes Transport Station\",\"Gabes Transport Station\",\"Gabes Warhouse\"],\"yaxis\":\"y\",\"type\":\"scatter\"},{\"hovertemplate\":\"Bus_line=%{text}<br>Time_start=%{x}<br>start_location_name=%{y}<extra></extra>\",\"legendgroup\":\"10J Manzel Habib\",\"marker\":{\"color\":\"#FFA15A\",\"symbol\":\"circle\"},\"mode\":\"markers+text\",\"name\":\"10J Manzel Habib\",\"orientation\":\"v\",\"showlegend\":true,\"text\":[\"10J Manzel Habib\",\"10J Manzel Habib\",\"10J Manzel Habib\",\"10J Manzel Habib\",\"10J Manzel Habib\",\"10J Manzel Habib\",\"10J Manzel Habib\",\"10J Manzel Habib\"],\"x\":[\"6:00\",\"6:45\",\"8:30\",\"12:30\",\"14:00\",\"15:30\",\"17:05\",\"18:30\"],\"xaxis\":\"x\",\"y\":[\"Manzel Habib\",\"Gabes Transport Station\",\"Manzel Habib\",\"Gabes Transport Station\",\"Gabes Transport Station\",\"Gabes Transport Station\",\"Manzel Habib\",\"Gabes Transport Station\"],\"yaxis\":\"y\",\"type\":\"scatter\"},{\"hovertemplate\":\"Bus_line=%{text}<br>Time_start=%{x}<br>start_location_name=%{y}<extra></extra>\",\"legendgroup\":\"10E 1 Mida\",\"marker\":{\"color\":\"#19d3f3\",\"symbol\":\"circle\"},\"mode\":\"markers+text\",\"name\":\"10E 1 Mida\",\"orientation\":\"v\",\"showlegend\":true,\"text\":[\"10E 1 Mida\",\"10E 1 Mida\",\"10E 1 Mida\",\"10E 1 Mida\",\"10E 1 Mida\",\"10E 1 Mida\",\"10E 1 Mida\"],\"x\":[\"6:10\",\"8:10\",\"11:30\",\"13:10\",\"14:10\",\"15:30\",\"17:30\"],\"xaxis\":\"x\",\"y\":[\"Awled Thaw Vers Mida \\nGabes\",\"Ghraysa Mida Gabes\",\"Gabes Vers Awled Thaw\",\"Awled Thaw Vers Mida \\nGabes\",\"Gabes Vers Awled Thaw\",\"Gabes Vers Awled Thaw\",\"Gabes Mida Vers Awled Thaw\"],\"yaxis\":\"y\",\"type\":\"scatter\"},{\"hovertemplate\":\"Bus_line=%{text}<br>Time_start=%{x}<br>start_location_name=%{y}<extra></extra>\",\"legendgroup\":\"10+10A de Gabes\",\"marker\":{\"color\":\"#FF6692\",\"symbol\":\"circle\"},\"mode\":\"markers+text\",\"name\":\"10+10A de Gabes\",\"orientation\":\"v\",\"showlegend\":true,\"text\":[\"10+10A de Gabes\",\"10+10A de Gabes\",\"10+10A de Gabes\",\"10+10A de Gabes\",\"10+10A de Gabes\",\"10+10A de Gabes\",\"10+10A de Gabes\",\"10+10A de Gabes\",\"10+10A de Gabes\",\"10+10A de Gabes\",\"10+10A de Gabes\",\"10+10A de Gabes\"],\"x\":[\"6:50\",\"7:20\",\"7:25\",\"8:45\",\"10:00\",\"11:00\",\"12:10\",\"13:15\",\"14:00\",\"15:30\",\"17:00\",\"18:10\"],\"xaxis\":\"x\",\"y\":[\"Hospital\",\"Hospital\",\"Gabes Warhouse\",\"Sidi Marzouk\",\"Hospital\",\"Hospital\",\"Hospital\",\"Hospital\",\"Hospital\",\"Hospital\",\"Hospital\",\"Gabes Warhouse\"],\"yaxis\":\"y\",\"type\":\"scatter\"},{\"hovertemplate\":\"Bus_line=%{text}<br>Time_start=%{x}<br>start_location_name=%{y}<extra></extra>\",\"legendgroup\":\"Line 4\",\"marker\":{\"color\":\"#B6E880\",\"symbol\":\"circle\"},\"mode\":\"markers+text\",\"name\":\"Line 4\",\"orientation\":\"v\",\"showlegend\":true,\"text\":[\"Line 4\",\"Line 4\",\"Line 4\",\"Line 4\",\"Line 4\",\"Line 4\",\"Line 4\",\"Line 4\",\"Line 4\",\"Line 4\",\"Line 4\",\"Line 4\",\"Line 4\",\"Line 4\",\"Line 4\",\"Line 4\",\"Line 4\",\"Line 4\",\"Line 4\"],\"x\":[\"7:15\",\"7:55\",\"8:35\",\"9:15\",\"9:55\",\"10:35\",\"11:15\",\"11:50\",\"12:20\",\"13:15\",\"13:55\",\"14:35\",\"15:15\",\"15:15\",\"15:55\",\"16:35\",\"17:55\",\"18:35\",\"19:15\"],\"xaxis\":\"x\",\"y\":[\"Fac de Science/Cit\\u00e9 Amel\",\"Fac de Science/Cit\\u00e9 Amel\",\"Hospital\",\"Fac de Science/Cit\\u00e9 Amel\",\"Hospital\",\"Fac de Science/Cit\\u00e9 Amel\",\"Hospital\",\"Fac de Science/Cit\\u00e9 Amel\",\"Hospital\",\"Fac de Science/Cit\\u00e9 Amel\",\"Fac de Science/Cit\\u00e9 Amel\",\"Hospital\",\"Fac de Science/Cit\\u00e9 Amel\",\"Hospital\",\"Hospital\",\"Fac de Science/Cit\\u00e9 Amel\",\"Fac de Science/Cit\\u00e9 Amel\",\"Hospital\",\"Fac de Science/Cit\\u00e9 Amel\"],\"yaxis\":\"y\",\"type\":\"scatter\"},{\"hovertemplate\":\"Bus_line=%{text}<br>Time_start=%{x}<br>start_location_name=%{y}<extra></extra>\",\"legendgroup\":\"Line 4C\",\"marker\":{\"color\":\"#FF97FF\",\"symbol\":\"circle\"},\"mode\":\"markers+text\",\"name\":\"Line 4C\",\"orientation\":\"v\",\"showlegend\":true,\"text\":[\"Line 4C\",\"Line 4C\",\"Line 4C\",\"Line 4C\",\"Line 4C\",\"Line 4C\",\"Line 4C\",\"Line 4C\",\"Line 4C\",\"Line 4C\",\"Line 4C\",\"Line 4C\",\"Line 4C\",\"Line 4C\",\"Line 4C\",\"Line 4C\",\"Line 4C\",\"Line 4C\"],\"x\":[\"7:15\",\"7:55\",\"8:35\",\"9:15\",\"9:55\",\"10:35\",\"11:15\",\"12:00\",\"13:15\",\"13:55\",\"14:35\",\"15:15\",\"15:55\",\"16:35\",\"17:15\",\"18:00\",\"18:40\",\"19:15\"],\"xaxis\":\"x\",\"y\":[\"Fac de Science/Cit\\u00e9 Amel\",\"Hospital\",\"Fac de Science/Cit\\u00e9 Amel\",\"Hospital\",\"Fac de Science/Cit\\u00e9 Amel\",\"Hospital\",\"Fac de Science/Cit\\u00e9 Amel\",\"Cit\\u00e9 Manara\",\"Fac de Science/Cit\\u00e9 Amel\",\"Hospital\",\"Fac de Science/Cit\\u00e9 Amel\",\"Hospital\",\"Fac de Science/Cit\\u00e9 Amel\",\"Hospital\",\"Fac de Science/Cit\\u00e9 Amel\",\"Cit\\u00e9 Manara\",\"Fac de Science/Cit\\u00e9 Amel\",\"Hospital\"],\"yaxis\":\"y\",\"type\":\"scatter\"},{\"hovertemplate\":\"Bus_line=%{text}<br>Time_start=%{x}<br>start_location_name=%{y}<extra></extra>\",\"legendgroup\":\"Line D15\",\"marker\":{\"color\":\"#FECB52\",\"symbol\":\"circle\"},\"mode\":\"markers+text\",\"name\":\"Line D15\",\"orientation\":\"v\",\"showlegend\":true,\"text\":[\"Line D15\",\"Line D15\",\"Line D15\",\"Line D15\",\"Line D15\",\"Line D15\",\"Line D15\",\"Line D15\",\"Line D15\",\"Line D15\",\"Line D15\",\"Line D15\",\"Line D15\",\"Line D15\",\"Line D15\",\"Line D15\",\"Line D15\"],\"x\":[\"7:30\",\"8:10\",\"8:50\",\"9:30\",\"10:10\",\"10:50\",\"11:30\",\"12:10\",\"12:50\",\"13:30\",\"14:10\",\"14:50\",\"15:30\",\"16:50\",\"17:30\",\"18:10\",\"18:50\"],\"xaxis\":\"x\",\"y\":[\"Cit\\u00e9 Pharmacies\",\"Fac de Science\",\"Cit\\u00e9 Pharmacies\",\"Fac de Science\",\"Cit\\u00e9 Pharmacies\",\"Fac de Science\",\"Cit\\u00e9 Pharmacies\",\"Fac de Science\",\"Cit\\u00e9 Pharmacies\",\"Cit\\u00e9 Pharmacies\",\"Fac de Science\",\"Cit\\u00e9 Pharmacies\",\"Fac de Science\",\"Cit\\u00e9 Pharmacies\",\"Fac de Science\",\"Cit\\u00e9 Pharmacies\",\"Fac de Science\"],\"yaxis\":\"y\",\"type\":\"scatter\"}],                        {\"template\":{\"data\":{\"bar\":[{\"error_x\":{\"color\":\"#2a3f5f\"},\"error_y\":{\"color\":\"#2a3f5f\"},\"marker\":{\"line\":{\"color\":\"#E5ECF6\",\"width\":0.5},\"pattern\":{\"fillmode\":\"overlay\",\"size\":10,\"solidity\":0.2}},\"type\":\"bar\"}],\"barpolar\":[{\"marker\":{\"line\":{\"color\":\"#E5ECF6\",\"width\":0.5},\"pattern\":{\"fillmode\":\"overlay\",\"size\":10,\"solidity\":0.2}},\"type\":\"barpolar\"}],\"carpet\":[{\"aaxis\":{\"endlinecolor\":\"#2a3f5f\",\"gridcolor\":\"white\",\"linecolor\":\"white\",\"minorgridcolor\":\"white\",\"startlinecolor\":\"#2a3f5f\"},\"baxis\":{\"endlinecolor\":\"#2a3f5f\",\"gridcolor\":\"white\",\"linecolor\":\"white\",\"minorgridcolor\":\"white\",\"startlinecolor\":\"#2a3f5f\"},\"type\":\"carpet\"}],\"choropleth\":[{\"colorbar\":{\"outlinewidth\":0,\"ticks\":\"\"},\"type\":\"choropleth\"}],\"contour\":[{\"colorbar\":{\"outlinewidth\":0,\"ticks\":\"\"},\"colorscale\":[[0.0,\"#0d0887\"],[0.1111111111111111,\"#46039f\"],[0.2222222222222222,\"#7201a8\"],[0.3333333333333333,\"#9c179e\"],[0.4444444444444444,\"#bd3786\"],[0.5555555555555556,\"#d8576b\"],[0.6666666666666666,\"#ed7953\"],[0.7777777777777778,\"#fb9f3a\"],[0.8888888888888888,\"#fdca26\"],[1.0,\"#f0f921\"]],\"type\":\"contour\"}],\"contourcarpet\":[{\"colorbar\":{\"outlinewidth\":0,\"ticks\":\"\"},\"type\":\"contourcarpet\"}],\"heatmap\":[{\"colorbar\":{\"outlinewidth\":0,\"ticks\":\"\"},\"colorscale\":[[0.0,\"#0d0887\"],[0.1111111111111111,\"#46039f\"],[0.2222222222222222,\"#7201a8\"],[0.3333333333333333,\"#9c179e\"],[0.4444444444444444,\"#bd3786\"],[0.5555555555555556,\"#d8576b\"],[0.6666666666666666,\"#ed7953\"],[0.7777777777777778,\"#fb9f3a\"],[0.8888888888888888,\"#fdca26\"],[1.0,\"#f0f921\"]],\"type\":\"heatmap\"}],\"heatmapgl\":[{\"colorbar\":{\"outlinewidth\":0,\"ticks\":\"\"},\"colorscale\":[[0.0,\"#0d0887\"],[0.1111111111111111,\"#46039f\"],[0.2222222222222222,\"#7201a8\"],[0.3333333333333333,\"#9c179e\"],[0.4444444444444444,\"#bd3786\"],[0.5555555555555556,\"#d8576b\"],[0.6666666666666666,\"#ed7953\"],[0.7777777777777778,\"#fb9f3a\"],[0.8888888888888888,\"#fdca26\"],[1.0,\"#f0f921\"]],\"type\":\"heatmapgl\"}],\"histogram\":[{\"marker\":{\"pattern\":{\"fillmode\":\"overlay\",\"size\":10,\"solidity\":0.2}},\"type\":\"histogram\"}],\"histogram2d\":[{\"colorbar\":{\"outlinewidth\":0,\"ticks\":\"\"},\"colorscale\":[[0.0,\"#0d0887\"],[0.1111111111111111,\"#46039f\"],[0.2222222222222222,\"#7201a8\"],[0.3333333333333333,\"#9c179e\"],[0.4444444444444444,\"#bd3786\"],[0.5555555555555556,\"#d8576b\"],[0.6666666666666666,\"#ed7953\"],[0.7777777777777778,\"#fb9f3a\"],[0.8888888888888888,\"#fdca26\"],[1.0,\"#f0f921\"]],\"type\":\"histogram2d\"}],\"histogram2dcontour\":[{\"colorbar\":{\"outlinewidth\":0,\"ticks\":\"\"},\"colorscale\":[[0.0,\"#0d0887\"],[0.1111111111111111,\"#46039f\"],[0.2222222222222222,\"#7201a8\"],[0.3333333333333333,\"#9c179e\"],[0.4444444444444444,\"#bd3786\"],[0.5555555555555556,\"#d8576b\"],[0.6666666666666666,\"#ed7953\"],[0.7777777777777778,\"#fb9f3a\"],[0.8888888888888888,\"#fdca26\"],[1.0,\"#f0f921\"]],\"type\":\"histogram2dcontour\"}],\"mesh3d\":[{\"colorbar\":{\"outlinewidth\":0,\"ticks\":\"\"},\"type\":\"mesh3d\"}],\"parcoords\":[{\"line\":{\"colorbar\":{\"outlinewidth\":0,\"ticks\":\"\"}},\"type\":\"parcoords\"}],\"pie\":[{\"automargin\":true,\"type\":\"pie\"}],\"scatter\":[{\"marker\":{\"colorbar\":{\"outlinewidth\":0,\"ticks\":\"\"}},\"type\":\"scatter\"}],\"scatter3d\":[{\"line\":{\"colorbar\":{\"outlinewidth\":0,\"ticks\":\"\"}},\"marker\":{\"colorbar\":{\"outlinewidth\":0,\"ticks\":\"\"}},\"type\":\"scatter3d\"}],\"scattercarpet\":[{\"marker\":{\"colorbar\":{\"outlinewidth\":0,\"ticks\":\"\"}},\"type\":\"scattercarpet\"}],\"scattergeo\":[{\"marker\":{\"colorbar\":{\"outlinewidth\":0,\"ticks\":\"\"}},\"type\":\"scattergeo\"}],\"scattergl\":[{\"marker\":{\"colorbar\":{\"outlinewidth\":0,\"ticks\":\"\"}},\"type\":\"scattergl\"}],\"scattermapbox\":[{\"marker\":{\"colorbar\":{\"outlinewidth\":0,\"ticks\":\"\"}},\"type\":\"scattermapbox\"}],\"scatterpolar\":[{\"marker\":{\"colorbar\":{\"outlinewidth\":0,\"ticks\":\"\"}},\"type\":\"scatterpolar\"}],\"scatterpolargl\":[{\"marker\":{\"colorbar\":{\"outlinewidth\":0,\"ticks\":\"\"}},\"type\":\"scatterpolargl\"}],\"scatterternary\":[{\"marker\":{\"colorbar\":{\"outlinewidth\":0,\"ticks\":\"\"}},\"type\":\"scatterternary\"}],\"surface\":[{\"colorbar\":{\"outlinewidth\":0,\"ticks\":\"\"},\"colorscale\":[[0.0,\"#0d0887\"],[0.1111111111111111,\"#46039f\"],[0.2222222222222222,\"#7201a8\"],[0.3333333333333333,\"#9c179e\"],[0.4444444444444444,\"#bd3786\"],[0.5555555555555556,\"#d8576b\"],[0.6666666666666666,\"#ed7953\"],[0.7777777777777778,\"#fb9f3a\"],[0.8888888888888888,\"#fdca26\"],[1.0,\"#f0f921\"]],\"type\":\"surface\"}],\"table\":[{\"cells\":{\"fill\":{\"color\":\"#EBF0F8\"},\"line\":{\"color\":\"white\"}},\"header\":{\"fill\":{\"color\":\"#C8D4E3\"},\"line\":{\"color\":\"white\"}},\"type\":\"table\"}]},\"layout\":{\"annotationdefaults\":{\"arrowcolor\":\"#2a3f5f\",\"arrowhead\":0,\"arrowwidth\":1},\"autotypenumbers\":\"strict\",\"coloraxis\":{\"colorbar\":{\"outlinewidth\":0,\"ticks\":\"\"}},\"colorscale\":{\"diverging\":[[0,\"#8e0152\"],[0.1,\"#c51b7d\"],[0.2,\"#de77ae\"],[0.3,\"#f1b6da\"],[0.4,\"#fde0ef\"],[0.5,\"#f7f7f7\"],[0.6,\"#e6f5d0\"],[0.7,\"#b8e186\"],[0.8,\"#7fbc41\"],[0.9,\"#4d9221\"],[1,\"#276419\"]],\"sequential\":[[0.0,\"#0d0887\"],[0.1111111111111111,\"#46039f\"],[0.2222222222222222,\"#7201a8\"],[0.3333333333333333,\"#9c179e\"],[0.4444444444444444,\"#bd3786\"],[0.5555555555555556,\"#d8576b\"],[0.6666666666666666,\"#ed7953\"],[0.7777777777777778,\"#fb9f3a\"],[0.8888888888888888,\"#fdca26\"],[1.0,\"#f0f921\"]],\"sequentialminus\":[[0.0,\"#0d0887\"],[0.1111111111111111,\"#46039f\"],[0.2222222222222222,\"#7201a8\"],[0.3333333333333333,\"#9c179e\"],[0.4444444444444444,\"#bd3786\"],[0.5555555555555556,\"#d8576b\"],[0.6666666666666666,\"#ed7953\"],[0.7777777777777778,\"#fb9f3a\"],[0.8888888888888888,\"#fdca26\"],[1.0,\"#f0f921\"]]},\"colorway\":[\"#636efa\",\"#EF553B\",\"#00cc96\",\"#ab63fa\",\"#FFA15A\",\"#19d3f3\",\"#FF6692\",\"#B6E880\",\"#FF97FF\",\"#FECB52\"],\"font\":{\"color\":\"#2a3f5f\"},\"geo\":{\"bgcolor\":\"white\",\"lakecolor\":\"white\",\"landcolor\":\"#E5ECF6\",\"showlakes\":true,\"showland\":true,\"subunitcolor\":\"white\"},\"hoverlabel\":{\"align\":\"left\"},\"hovermode\":\"closest\",\"mapbox\":{\"style\":\"light\"},\"paper_bgcolor\":\"white\",\"plot_bgcolor\":\"#E5ECF6\",\"polar\":{\"angularaxis\":{\"gridcolor\":\"white\",\"linecolor\":\"white\",\"ticks\":\"\"},\"bgcolor\":\"#E5ECF6\",\"radialaxis\":{\"gridcolor\":\"white\",\"linecolor\":\"white\",\"ticks\":\"\"}},\"scene\":{\"xaxis\":{\"backgroundcolor\":\"#E5ECF6\",\"gridcolor\":\"white\",\"gridwidth\":2,\"linecolor\":\"white\",\"showbackground\":true,\"ticks\":\"\",\"zerolinecolor\":\"white\"},\"yaxis\":{\"backgroundcolor\":\"#E5ECF6\",\"gridcolor\":\"white\",\"gridwidth\":2,\"linecolor\":\"white\",\"showbackground\":true,\"ticks\":\"\",\"zerolinecolor\":\"white\"},\"zaxis\":{\"backgroundcolor\":\"#E5ECF6\",\"gridcolor\":\"white\",\"gridwidth\":2,\"linecolor\":\"white\",\"showbackground\":true,\"ticks\":\"\",\"zerolinecolor\":\"white\"}},\"shapedefaults\":{\"line\":{\"color\":\"#2a3f5f\"}},\"ternary\":{\"aaxis\":{\"gridcolor\":\"white\",\"linecolor\":\"white\",\"ticks\":\"\"},\"baxis\":{\"gridcolor\":\"white\",\"linecolor\":\"white\",\"ticks\":\"\"},\"bgcolor\":\"#E5ECF6\",\"caxis\":{\"gridcolor\":\"white\",\"linecolor\":\"white\",\"ticks\":\"\"}},\"title\":{\"x\":0.05},\"xaxis\":{\"automargin\":true,\"gridcolor\":\"white\",\"linecolor\":\"white\",\"ticks\":\"\",\"title\":{\"standoff\":15},\"zerolinecolor\":\"white\",\"zerolinewidth\":2},\"yaxis\":{\"automargin\":true,\"gridcolor\":\"white\",\"linecolor\":\"white\",\"ticks\":\"\",\"title\":{\"standoff\":15},\"zerolinecolor\":\"white\",\"zerolinewidth\":2}}},\"xaxis\":{\"anchor\":\"y\",\"domain\":[0.0,1.0],\"title\":{\"text\":\"Time_start\"}},\"yaxis\":{\"anchor\":\"x\",\"domain\":[0.0,1.0],\"title\":{\"text\":\"start_location_name\"}},\"legend\":{\"title\":{\"text\":\"Bus_line\"},\"tracegroupgap\":0},\"margin\":{\"t\":60}},                        {\"responsive\": true}                    ).then(function(){\n",
       "                            \n",
       "var gd = document.getElementById('2b7a77ac-a077-4dd1-94e7-ecabfd48d3ea');\n",
       "var x = new MutationObserver(function (mutations, observer) {{\n",
       "        var display = window.getComputedStyle(gd).display;\n",
       "        if (!display || display === 'none') {{\n",
       "            console.log([gd, 'removed!']);\n",
       "            Plotly.purge(gd);\n",
       "            observer.disconnect();\n",
       "        }}\n",
       "}});\n",
       "\n",
       "// Listen for the removal of the full notebook cells\n",
       "var notebookContainer = gd.closest('#notebook-container');\n",
       "if (notebookContainer) {{\n",
       "    x.observe(notebookContainer, {childList: true});\n",
       "}}\n",
       "\n",
       "// Listen for the clearing of the current output cell\n",
       "var outputEl = gd.closest('.output');\n",
       "if (outputEl) {{\n",
       "    x.observe(outputEl, {childList: true});\n",
       "}}\n",
       "\n",
       "                        })                };                });            </script>        </div>"
      ]
     },
     "metadata": {},
     "output_type": "display_data"
    }
   ],
   "source": [
    "import plotly.express as px\n",
    "\n",
    "fig = px.scatter(UrbanBusData, x=\"start_location_name\", y=\"Time_start\", color=\"Bus_line\" ,text=\"Bus_line\")\n",
    "\n",
    "fig.show()"
   ]
  },
  {
   "cell_type": "code",
   "execution_count": 11,
   "id": "4b431b8e",
   "metadata": {},
   "outputs": [
    {
     "data": {
      "text/html": [
       "<div>\n",
       "<style scoped>\n",
       "    .dataframe tbody tr th:only-of-type {\n",
       "        vertical-align: middle;\n",
       "    }\n",
       "\n",
       "    .dataframe tbody tr th {\n",
       "        vertical-align: top;\n",
       "    }\n",
       "\n",
       "    .dataframe thead th {\n",
       "        text-align: right;\n",
       "    }\n",
       "</style>\n",
       "<table border=\"1\" class=\"dataframe\">\n",
       "  <thead>\n",
       "    <tr style=\"text-align: right;\">\n",
       "      <th></th>\n",
       "      <th>Bus_line</th>\n",
       "      <th>start_location_name</th>\n",
       "      <th>end_location_name</th>\n",
       "      <th>Time_start</th>\n",
       "      <th>Date_record</th>\n",
       "      <th>Accuracy</th>\n",
       "      <th>Confirms</th>\n",
       "      <th>Misses</th>\n",
       "      <th>Last_accurate_time</th>\n",
       "    </tr>\n",
       "  </thead>\n",
       "  <tbody>\n",
       "    <tr>\n",
       "      <th>16</th>\n",
       "      <td>10+10A de Gabes</td>\n",
       "      <td>Hospital</td>\n",
       "      <td>NaN</td>\n",
       "      <td>10:00</td>\n",
       "      <td>30/06/2021</td>\n",
       "      <td>Not Yet Initialized</td>\n",
       "      <td>0</td>\n",
       "      <td>0</td>\n",
       "      <td>NaN</td>\n",
       "    </tr>\n",
       "    <tr>\n",
       "      <th>5</th>\n",
       "      <td>10+10A de Oudhref</td>\n",
       "      <td>Oudhref Mostarsel</td>\n",
       "      <td>NaN</td>\n",
       "      <td>10:00</td>\n",
       "      <td>30/06/2021</td>\n",
       "      <td>Not Yet Initialized</td>\n",
       "      <td>0</td>\n",
       "      <td>0</td>\n",
       "      <td>NaN</td>\n",
       "    </tr>\n",
       "    <tr>\n",
       "      <th>91</th>\n",
       "      <td>Line D15</td>\n",
       "      <td>Cité Pharmacies</td>\n",
       "      <td>Fac de Science</td>\n",
       "      <td>10:10</td>\n",
       "      <td>Unknown</td>\n",
       "      <td>Not Yet Initialized</td>\n",
       "      <td>0</td>\n",
       "      <td>0</td>\n",
       "      <td>NaN</td>\n",
       "    </tr>\n",
       "    <tr>\n",
       "      <th>55</th>\n",
       "      <td>Line 4</td>\n",
       "      <td>Fac de Science/Cité Amel</td>\n",
       "      <td>Hospital</td>\n",
       "      <td>10:35</td>\n",
       "      <td>Unknown</td>\n",
       "      <td>Not Yet Initialized</td>\n",
       "      <td>0</td>\n",
       "      <td>0</td>\n",
       "      <td>NaN</td>\n",
       "    </tr>\n",
       "    <tr>\n",
       "      <th>74</th>\n",
       "      <td>Line 4C</td>\n",
       "      <td>Hospital</td>\n",
       "      <td>Fac de Science/Cité Amel</td>\n",
       "      <td>10:35</td>\n",
       "      <td>Unknown</td>\n",
       "      <td>Not Yet Initialized</td>\n",
       "      <td>0</td>\n",
       "      <td>0</td>\n",
       "      <td>NaN</td>\n",
       "    </tr>\n",
       "    <tr>\n",
       "      <th>...</th>\n",
       "      <td>...</td>\n",
       "      <td>...</td>\n",
       "      <td>...</td>\n",
       "      <td>...</td>\n",
       "      <td>...</td>\n",
       "      <td>...</td>\n",
       "      <td>...</td>\n",
       "      <td>...</td>\n",
       "      <td>...</td>\n",
       "    </tr>\n",
       "    <tr>\n",
       "      <th>53</th>\n",
       "      <td>Line 4</td>\n",
       "      <td>Fac de Science/Cité Amel</td>\n",
       "      <td>Hospital</td>\n",
       "      <td>9:15</td>\n",
       "      <td>Unknown</td>\n",
       "      <td>Not Yet Initialized</td>\n",
       "      <td>0</td>\n",
       "      <td>0</td>\n",
       "      <td>NaN</td>\n",
       "    </tr>\n",
       "    <tr>\n",
       "      <th>72</th>\n",
       "      <td>Line 4C</td>\n",
       "      <td>Hospital</td>\n",
       "      <td>Fac de Science/Cité Amel</td>\n",
       "      <td>9:15</td>\n",
       "      <td>Unknown</td>\n",
       "      <td>Not Yet Initialized</td>\n",
       "      <td>0</td>\n",
       "      <td>0</td>\n",
       "      <td>NaN</td>\n",
       "    </tr>\n",
       "    <tr>\n",
       "      <th>90</th>\n",
       "      <td>Line D15</td>\n",
       "      <td>Fac de Science</td>\n",
       "      <td>Cité Pharmacies</td>\n",
       "      <td>9:30</td>\n",
       "      <td>Unknown</td>\n",
       "      <td>Not Yet Initialized</td>\n",
       "      <td>0</td>\n",
       "      <td>0</td>\n",
       "      <td>NaN</td>\n",
       "    </tr>\n",
       "    <tr>\n",
       "      <th>54</th>\n",
       "      <td>Line 4</td>\n",
       "      <td>Hospital</td>\n",
       "      <td>Fac de Science/Cité Amel</td>\n",
       "      <td>9:55</td>\n",
       "      <td>Unknown</td>\n",
       "      <td>Not Yet Initialized</td>\n",
       "      <td>0</td>\n",
       "      <td>0</td>\n",
       "      <td>NaN</td>\n",
       "    </tr>\n",
       "    <tr>\n",
       "      <th>73</th>\n",
       "      <td>Line 4C</td>\n",
       "      <td>Fac de Science/Cité Amel</td>\n",
       "      <td>Hospital</td>\n",
       "      <td>9:55</td>\n",
       "      <td>Unknown</td>\n",
       "      <td>Not Yet Initialized</td>\n",
       "      <td>0</td>\n",
       "      <td>0</td>\n",
       "      <td>NaN</td>\n",
       "    </tr>\n",
       "  </tbody>\n",
       "</table>\n",
       "<p>104 rows × 9 columns</p>\n",
       "</div>"
      ],
      "text/plain": [
       "             Bus_line       start_location_name         end_location_name  \\\n",
       "16    10+10A de Gabes                  Hospital                       NaN   \n",
       "5   10+10A de Oudhref         Oudhref Mostarsel                       NaN   \n",
       "91           Line D15           Cité Pharmacies            Fac de Science   \n",
       "55             Line 4  Fac de Science/Cité Amel                  Hospital   \n",
       "74            Line 4C                  Hospital  Fac de Science/Cité Amel   \n",
       "..                ...                       ...                       ...   \n",
       "53             Line 4  Fac de Science/Cité Amel                  Hospital   \n",
       "72            Line 4C                  Hospital  Fac de Science/Cité Amel   \n",
       "90           Line D15            Fac de Science           Cité Pharmacies   \n",
       "54             Line 4                  Hospital  Fac de Science/Cité Amel   \n",
       "73            Line 4C  Fac de Science/Cité Amel                  Hospital   \n",
       "\n",
       "   Time_start Date_record             Accuracy  Confirms  Misses  \\\n",
       "16      10:00  30/06/2021  Not Yet Initialized         0       0   \n",
       "5       10:00  30/06/2021  Not Yet Initialized         0       0   \n",
       "91      10:10     Unknown  Not Yet Initialized         0       0   \n",
       "55      10:35     Unknown  Not Yet Initialized         0       0   \n",
       "74      10:35     Unknown  Not Yet Initialized         0       0   \n",
       "..        ...         ...                  ...       ...     ...   \n",
       "53       9:15     Unknown  Not Yet Initialized         0       0   \n",
       "72       9:15     Unknown  Not Yet Initialized         0       0   \n",
       "90       9:30     Unknown  Not Yet Initialized         0       0   \n",
       "54       9:55     Unknown  Not Yet Initialized         0       0   \n",
       "73       9:55     Unknown  Not Yet Initialized         0       0   \n",
       "\n",
       "    Last_accurate_time  \n",
       "16                 NaN  \n",
       "5                  NaN  \n",
       "91                 NaN  \n",
       "55                 NaN  \n",
       "74                 NaN  \n",
       "..                 ...  \n",
       "53                 NaN  \n",
       "72                 NaN  \n",
       "90                 NaN  \n",
       "54                 NaN  \n",
       "73                 NaN  \n",
       "\n",
       "[104 rows x 9 columns]"
      ]
     },
     "execution_count": 11,
     "metadata": {},
     "output_type": "execute_result"
    }
   ],
   "source": [
    "UrbanBusData.sort_values(by='Time_start')"
   ]
  }
 ],
 "metadata": {
  "kernelspec": {
   "display_name": "Python 3 (ipykernel)",
   "language": "python",
   "name": "python3"
  },
  "language_info": {
   "codemirror_mode": {
    "name": "ipython",
    "version": 3
   },
   "file_extension": ".py",
   "mimetype": "text/x-python",
   "name": "python",
   "nbconvert_exporter": "python",
   "pygments_lexer": "ipython3",
   "version": "3.8.10"
  }
 },
 "nbformat": 4,
 "nbformat_minor": 5
}
